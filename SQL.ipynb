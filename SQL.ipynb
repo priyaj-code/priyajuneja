{
  "nbformat": 4,
  "nbformat_minor": 0,
  "metadata": {
    "kernelspec": {
      "display_name": "Python 3",
      "language": "python",
      "name": "python3"
    },
    "language_info": {
      "codemirror_mode": {
        "name": "ipython",
        "version": 3
      },
      "file_extension": ".py",
      "mimetype": "text/x-python",
      "name": "python",
      "nbconvert_exporter": "python",
      "pygments_lexer": "ipython3",
      "version": "3.8.3"
    },
    "colab": {
      "name": "SQL.ipynb",
      "provenance": [],
      "collapsed_sections": [],
      "include_colab_link": true
    }
  },
  "cells": [
    {
      "cell_type": "markdown",
      "metadata": {
        "id": "view-in-github",
        "colab_type": "text"
      },
      "source": [
        "<a href=\"https://colab.research.google.com/github/priyaj-code/priyajuneja/blob/main/SQL.ipynb\" target=\"_parent\"><img src=\"https://colab.research.google.com/assets/colab-badge.svg\" alt=\"Open In Colab\"/></a>"
      ]
    },
    {
      "cell_type": "code",
      "metadata": {
        "id": "fd_tdtFrZAhs",
        "outputId": "75101ef3-cfe5-4943-fadc-a89819e07918"
      },
      "source": [
        "import pymysql as py  #import the library\n",
        "# or you can write from pymysql import * ( so now, you dont need to call library name again and again)\n",
        "con=py.connect(db='juneja', user='root', passwd='Pulkit@123', host='localhost')\n",
        "deptno=int(input(\" enter the department\"))\n",
        "dname= input(\" enter the name \")\n",
        "cur=con.cursor()\n",
        "i=cur.execute(\" insert into dept values(%d,'%s') \"%(deptno, dname))\n",
        "if i==1:\n",
        "    print('record saved')\n",
        "    con.commit()\n",
        "\n",
        "    \n",
        "    \n",
        "    \n",
        "\n"
      ],
      "execution_count": null,
      "outputs": [
        {
          "output_type": "stream",
          "text": [
            " enter the department12\n",
            " enter the name kamal\n",
            "record saved\n"
          ],
          "name": "stdout"
        }
      ]
    }
  ]
}